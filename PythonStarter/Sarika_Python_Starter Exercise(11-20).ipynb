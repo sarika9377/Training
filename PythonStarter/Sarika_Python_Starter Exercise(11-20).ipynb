{
 "cells": [
  {
   "cell_type": "markdown",
   "metadata": {},
   "source": [
    "## Exercise 11: Fuel Efficiency\n",
    "\n",
    "In the United States, fuel efficiency for vehicles is normally expressed in miles-pergallon\n",
    "(MPG). In Canada, fuel efficiency is normally expressed in liters-per-hundred\n",
    "kilometers (L/100 km). Use your research skills to determine how to convert from\n",
    "MPGto L/100 km. Then create a program that reads a value from the user in American\n",
    "units and displays the equivalent fuel efficiency in Canadian units.\n",
    "\n",
    "$$ X  mpg = \\frac{282.48}{X}   liters per 100 Km $$"
   ]
  },
  {
   "cell_type": "code",
   "execution_count": 12,
   "metadata": {},
   "outputs": [
    {
     "name": "stdout",
     "output_type": "stream",
     "text": [
      "Enter the fuel in American units [mpg]: 2\n",
      "2.0 mpg is equal to 141.24 litres/100 km\n"
     ]
    }
   ],
   "source": [
    "#US=MPG\n",
    "#Cananda=L/100km\n",
    "\n",
    "#X mpg = 282.48 / X Liters per 100 km\n",
    "\n",
    "Fuel=float(input(\"Enter the fuel in American units [mpg]: \"))\n",
    "print(\"{} mpg is equal to {:.2f} litres/100 km\".format(Fuel,282.48/Fuel))\n"
   ]
  },
  {
   "cell_type": "markdown",
   "metadata": {},
   "source": [
    "## Exercise 12: Distance Between Two Points on Earth\n",
    "\n",
    "The surface of the Earth is curved, and the distance between degrees of longitude varies with latitude. As a result, finding the distance between two points on the surface of the Earth is more complicated than simply using the Pythagorean theorem.\n",
    "Let (t1, g1) and (t2, g2) be the latitude and longitude of two points on the Earth’s surface. The distance between these points, following the surface of the Earth, in kilometers is:\n",
    "\n",
    "$ distance = 6371.01 × arccos(sin(t1) × sin(t2) + cos(t1) × cos(t2) × cos(g1 − g2)) $\n",
    "\n",
    "\n",
    "The value 6371.01 in the previous equation wasn’t selected at random. It is the average radius of the Earth in kilometers.\n",
    "Create a program that allows the user to enter the latitude and longitude of two points on the Earth in degrees. Your program should display the distance between the points, following the surface of the earth, in kilometers.\n",
    "\n",
    "**Hint:** Python’s trigonometric functions operate in radians. As a result, you will need to convert the user’s input from degrees to radians before computing the distance with the formula discussed previously. The math module contains a function named radians which converts from degrees to radians."
   ]
  },
  {
   "cell_type": "code",
   "execution_count": 20,
   "metadata": {},
   "outputs": [
    {
     "name": "stdout",
     "output_type": "stream",
     "text": [
      "Enter the latitude of first point on Earth: 13.0827\n",
      "Enter the longitude of first point on Earth: 80.2707\n",
      "Enter the latitude of second point on Earth: 12.9716\n",
      "Enter the longitude of second point on Earth: 77.5946\n",
      "The distance between the points are 290.1724804106377 km\n"
     ]
    }
   ],
   "source": [
    "#enter the latitude and longitude of two points on the Earth in degrees\n",
    "\n",
    "a1=float(input(\"Enter the latitude of first point on Earth: \"))\n",
    "b1=float(input(\"Enter the longitude of first point on Earth: \"))\n",
    "a2=float(input(\"Enter the latitude of second point on Earth: \"))\n",
    "b2=float(input(\"Enter the longitude of second point on Earth: \"))\n",
    "import math as m\n",
    "t1=m.radians(a1)\n",
    "t2=m.radians(a2)\n",
    "g1=m.radians(b1)\n",
    "g2=m.radians(b2)\n",
    "distance = 6371.01 * m.acos(m.sin(t1) * m.sin(t2) + m.cos(t1) * m.cos(t2) * m.cos(g1-g2))\n",
    "print(\"The distance between the points are {} km\".format(distance))"
   ]
  },
  {
   "cell_type": "markdown",
   "metadata": {},
   "source": [
    "## Exercise 13:Making Change\n",
    "\n",
    "Consider the software that runs on a self-checkout machine. One task that it must be able to perform is to determine how much change to provide when the shopper pays for a purchase with cash.\n",
    "\n",
    "Write a program that begins by reading a number of cents from the user as an integer. Then your program should compute and display the denominations of the coins that should be used to give that amount of change to the shopper. The change should be given using as few coins as possible. Assume that the machine is loaded with pennies, nickels, dimes, quarters, loonies and toonies.\n",
    "\n",
    "A one dollar coin was introduced in Canada in 1987. It is referred to as a loonie because one side of the coin has a loon (a type of bird) on it. The two dollar coin, referred to as a toonie, was introduced 9 years later. It’s name is derived from the combination of the number two and the name of the loonie."
   ]
  },
  {
   "cell_type": "code",
   "execution_count": 27,
   "metadata": {},
   "outputs": [
    {
     "name": "stdout",
     "output_type": "stream",
     "text": [
      "Enter amount in rupees for the purchase:1234\n",
      "Enter the amount received from the user: 1234\n",
      "Balance amount= Rs. 0\n"
     ]
    }
   ],
   "source": [
    "purchase_amount=int(input(\"Enter amount in rupees for the purchase:\"))\n",
    "user_amount=int(input(\"Enter the amount received from the user: \"))\n",
    "amount = user_amount - purchase_amount \n",
    "print(\"Balance amount= Rs.\",amount)\n",
    "if amount > 0:\n",
    "    '''\n",
    "    1. Rs.2000\n",
    "    2. Rs.500\n",
    "    3. Rs.200\n",
    "    4. Rs.100\n",
    "    5. Rs.50\n",
    "    6. Rs.20\n",
    "    7. Rs.10\n",
    "    8. Rs.05\n",
    "    9. Rs.1\n",
    "\n",
    "    '''\n",
    "    if amount >= 2000:\n",
    "        print(\"number of Rs.2000 notes= \", amount//2000)\n",
    "        amount = amount%2000\n",
    "    if amount >= 500:\n",
    "        print(\"number of Rs.500 notes= \",amount//500)\n",
    "        amount =amount%500\n",
    "    if amount >= 200:\n",
    "        print(\"number of Rs.200 notes= \", amount//200)\n",
    "        amount = amount%200\n",
    "    if amount >= 100:\n",
    "        print(\"number of Rs.100 notes= \",amount//100)\n",
    "        amount =amount%100\n",
    "    if amount >= 50:\n",
    "        print(\"number of Rs.50 notes= \", amount//50)\n",
    "        amount = amount%50\n",
    "    if amount >= 20:\n",
    "        print(\"number of Rs.20 notes= \",amount//20)\n",
    "        amount =amount%20\n",
    "    if amount >= 10:\n",
    "        print(\"number of Rs.10 notes= \", amount//10)\n",
    "        amount = amount%10\n",
    "    if amount >= 5:\n",
    "        print(\"number of Rs.5 notes= \",amount//5)\n",
    "        amount =amount%5\n",
    "    if amount >= 1:\n",
    "        print(\"number of Rs.1 notes= \",amount//1)\n",
    "elif amount < 0:\n",
    "    print(\"Customer need to pay more\")"
   ]
  },
  {
   "cell_type": "markdown",
   "metadata": {},
   "source": [
    "## Exercise 14: Height Units\n",
    "\n",
    "Many people think about their height in feet and inches, even in some countries that primarily use the metric system. Write a program that reads a number of feet from the user, followed by a number of inches. Once these values are read, your program\n",
    "should compute and display the equivalent number of centimeters.\n",
    "<br>**Hint:** One foot is 12 inches. One inch is 2.54 centimeters."
   ]
  },
  {
   "cell_type": "code",
   "execution_count": 32,
   "metadata": {},
   "outputs": [
    {
     "name": "stdout",
     "output_type": "stream",
     "text": [
      "Enter the persons height in feet: 6\n",
      "Enter the persons height in inches: 20\n",
      "Height in centimeter is : 233.68\n"
     ]
    }
   ],
   "source": [
    "a=int(input(\"Enter the persons height in feet: \"))\n",
    "b=int(input(\"Enter the persons height in inches: \"))\n",
    "c = a*12  #converting feet into inches\n",
    "c = (c + b)*2.54 #converting both inch into cm\n",
    "print(\"Height in centimeter is :\", c)"
   ]
  },
  {
   "cell_type": "markdown",
   "metadata": {},
   "source": [
    "## Exercise 15: Distance Units\n",
    "\n",
    "In this exercise, you will create a program that begins by reading a measurement in feet from the user. Then your program should display the equivalent distance in inches, yards and miles. Use the Internet to look up the necessary conversion factors\n",
    "if you don’t have them memorized."
   ]
  },
  {
   "cell_type": "code",
   "execution_count": 33,
   "metadata": {},
   "outputs": [
    {
     "name": "stdout",
     "output_type": "stream",
     "text": [
      "Enter the user measurement in feet: 100000\n",
      "100000.0 feet = 1200000.0in inches / 33333.333333333336 in yards / 18.939393939393938 in miles:\n"
     ]
    }
   ],
   "source": [
    "#One foot is 12 inches.\n",
    "#one foot is 1/3 yards\n",
    "#one foot is 1/5280 miles\n",
    "\n",
    "a= float(input(\"Enter the user measurement in feet: \"))\n",
    "print(\"{} feet = {}in inches / {} in yards / {} in miles:\".format(a,12*a, a/3, a/5280))\n"
   ]
  },
  {
   "cell_type": "markdown",
   "metadata": {},
   "source": [
    "## Exercise 16:Area and Volume\n",
    "\n",
    "Write a program that begins by reading a radius, r , from the user. The program will continue by computing and displaying the area of a circle with radius r and the volume of a sphere with radius r . Use the pi constant in the math module in your\n",
    "calculations.\n",
    "\n",
    "Hint: The area of a circle is computed using the formula <br> $ area = \\pi*r^2 $\n",
    "<br>The volume of a sphere is computed using the formula <br> $ volume = \\frac{4}{3} * \\pi * r^3 $"
   ]
  },
  {
   "cell_type": "code",
   "execution_count": 34,
   "metadata": {},
   "outputs": [
    {
     "name": "stdout",
     "output_type": "stream",
     "text": [
      "Enter radius: 3\n",
      "Area of circle = 28.274333882308138 \n",
      " Volume of sphere = 113.09733552923254\n"
     ]
    }
   ],
   "source": [
    "import math as m\n",
    "r=float(input(\"Enter radius: \"))\n",
    "area = m.pi * r**2\n",
    "volume = 4/3 *m.pi *r**3\n",
    "print(\"Area of circle = {} \\n Volume of sphere = {}\".format(area,volume))"
   ]
  },
  {
   "cell_type": "markdown",
   "metadata": {},
   "source": [
    "## Exercise 17: Heat Capacity\n",
    "\n",
    "The amount of energy required to increase the temperature of one gram of a material by one degree Celsius is the material’s specific heat capacity, C. The total amount of energy required to raise m grams of a material by $\\Delta$T degrees Celsius can be computed using the formula:\n",
    "<br><br><centre><i>q = mC$\\Delta$T</i> </centre> <br>\n",
    "Write a program that reads the mass of some water and the temperature change from the user. Your program should display the total amount of energy that must be added or removed to achieve the desired temperature change.\n",
    "<br>\n",
    "**Hint:** The specific heat capacity of water is 4.186 $ \\frac{J}{g} $ &deg;C. Becausewater has a density of 1.0 gram per millilitre, you can use grams and millilitres interchangeably in this exercise.\n",
    "<br>Extend your program so that it also computes the cost of heating the water. Electricity is normally billed using units of kilowatt hours rather than Joules. In this exercise, you should assume that electricity costs 8.9 cents per kilowatt-hour. Use\n",
    "your program to compute the cost of boiling water for a cup of coffee.\n",
    "\n",
    "**Hint:** You will need to look up the factor for converting between Joules and kilowatt hours to complete the last part of this exercise."
   ]
  },
  {
   "cell_type": "code",
   "execution_count": 40,
   "metadata": {},
   "outputs": [
    {
     "name": "stdout",
     "output_type": "stream",
     "text": [
      "Enter the volume of water in ml: 1000\n",
      "Enter the change in temp in C: 20\n",
      "Amount of energy required = 83720.0 joules\n",
      "Energy in kwh = 0.02 \n",
      " Cost of Energy =0.21cents\n"
     ]
    }
   ],
   "source": [
    "C=4.186\n",
    "\n",
    "m = float(input(\"Enter the volume of water in ml: \"))\n",
    "t= float(input(\"Enter the change in temp in C: \"))\n",
    "q = m*C*t\n",
    "print(\"Amount of energy required = {} joules\".format(q))\n",
    "\n",
    "#Convert joules to kwh\n",
    "\n",
    "# one joule = 2.77778e-7 kwh\n",
    "j = 2.77778e-7\n",
    "kwh = q*j \n",
    "cost = 8.98 *kwh  # 1 kwh = 8.9 cents\n",
    "\n",
    "print(\"Energy in kwh = {:.2f} \\n Cost of Energy ={:.2f}cents\".format(kwh,cost) )\n",
    "\n"
   ]
  },
  {
   "cell_type": "markdown",
   "metadata": {},
   "source": [
    "## Exercise 18:Volume of a Cylinder\n",
    "\n",
    "The volume of a cylinder can be computed by multiplying the area of its circular base by its height. Write a program that reads the radius of the cylinder, along with its height, from the user and computes its volume. Display the result rounded to one\n",
    "decimal place."
   ]
  },
  {
   "cell_type": "code",
   "execution_count": 36,
   "metadata": {},
   "outputs": [
    {
     "name": "stdout",
     "output_type": "stream",
     "text": [
      "Enter the radius: 4\n",
      "Enter the height: 6\n",
      "Volume of cylinder = 301.6\n"
     ]
    }
   ],
   "source": [
    "import math as m\n",
    "r = float(input(\"Enter the radius: \"))\n",
    "h = float(input(\"Enter the height: \"))\n",
    "volume = m.pi * r**2 * h\n",
    "\n",
    "print(\"Volume of cylinder = {:.1f}\".format(volume))\n"
   ]
  },
  {
   "cell_type": "markdown",
   "metadata": {},
   "source": [
    "## Exercise 19: Free Fall\n",
    "Create a program that determines how quickly an object is traveling when it hits the ground. The user will enter the height from which the object is dropped in meters (m). Because the object is dropped its initial speed is 0m/s. Assume that the acceleration due to gravity is $ 9.8m/s^2$. You can use the formula:\n",
    "    $$v_f = \\sqrt {v^2_i + 2ad} $$ to compute the final speed, $v_f$ , when the initial speed, $v_i$ , acceleration, a, and distance, d, are known."
   ]
  },
  {
   "cell_type": "code",
   "execution_count": 41,
   "metadata": {},
   "outputs": [
    {
     "name": "stdout",
     "output_type": "stream",
     "text": [
      "Height in metre: 20\n",
      "Final Velocity =  19.79898987322333\n"
     ]
    }
   ],
   "source": [
    "import math as m\n",
    "vi = 0  # initial speed is 0m/s.\n",
    "a = 9.8\n",
    "d = float(input(\"Height in metre: \"))\n",
    "vf = m.sqrt(vi **2 + (2*a*d))\n",
    "print(\"Final Velocity = \" , vf) "
   ]
  },
  {
   "cell_type": "markdown",
   "metadata": {},
   "source": [
    "## Exercise 20: Ideal Gas Law\n",
    "\n",
    "The ideal gas law is a mathematical approximation of the behavior of gasses as pressure, volume and temperature change. It is usually stated as:\n",
    "$$ PV = nRT $$\n",
    "where P is the pressure in Pascals, V is the volume in liters, n is the amount of substance in moles, R is the ideal gas constant, equal to $8.314\\frac{J}{mol K} $ , and $T$ is the temperature in degrees Kelvin.\n",
    "<br>\n",
    "Write a program that computes the amount of gas in moles when the user supplies the pressure, volume and temperature. Test your program by determining the number of moles of gas in a SCUBA tank. A typical SCUBA tank holds 12 liters of gas at a pressure of 20,000,000 Pascals (approximately 3,000 PSI). Room temperature is approximately 20 degrees Celsius or 68 degrees Fahrenheit."
   ]
  },
  {
   "cell_type": "code",
   "execution_count": 47,
   "metadata": {},
   "outputs": [
    {
     "name": "stdout",
     "output_type": "stream",
     "text": [
      "Number of moles of gas =  86600.91412076016\n"
     ]
    }
   ],
   "source": [
    "#𝑃𝑉=𝑛𝑅𝑇\n",
    "\n",
    "P =3000\n",
    "V =12\n",
    "R =8.314\n",
    "T =20\n",
    "n = P * V / R *T\n",
    "print(\"Number of moles of gas = \", n)"
   ]
  }
 ],
 "metadata": {
  "kernelspec": {
   "display_name": "Python 3",
   "language": "python",
   "name": "python3"
  },
  "language_info": {
   "codemirror_mode": {
    "name": "ipython",
    "version": 3
   },
   "file_extension": ".py",
   "mimetype": "text/x-python",
   "name": "python",
   "nbconvert_exporter": "python",
   "pygments_lexer": "ipython3",
   "version": "3.7.3"
  }
 },
 "nbformat": 4,
 "nbformat_minor": 2
}
