{
 "cells": [
  {
   "cell_type": "markdown",
   "metadata": {},
   "source": [
    "## Exercise 1: Mailing Address\n",
    "\n",
    "Create a program that displays your name and complete mailing address formatted in\n",
    "the manner that you would usually see it on the outside of an envelope. Your program\n",
    "does not need to read any input from the user.\n"
   ]
  },
  {
   "cell_type": "code",
   "execution_count": 7,
   "metadata": {},
   "outputs": [
    {
     "name": "stdout",
     "output_type": "stream",
     "text": [
      "Sarika Aswathy House Kappil East Krishnapuram Alappuzha 690533\n"
     ]
    }
   ],
   "source": [
    "Name=\"Sarika\"\n",
    "House_Name=\"Aswathy House\"\n",
    "Address1=\"Kappil East\"\n",
    "Address2=\"Krishnapuram\"\n",
    "Distict=\"Alappuzha\"\n",
    "Pincode=\"690533\"\n",
    "print(Name,House_Name,Address1,Address2,Distict,Pincode)"
   ]
  },
  {
   "cell_type": "code",
   "execution_count": 15,
   "metadata": {},
   "outputs": [
    {
     "name": "stdout",
     "output_type": "stream",
     "text": [
      "Sarika,\n",
      "Aswathy House,\n",
      "Kappil East,\n",
      "Krishnapuram,\n",
      "Alappuzha.\n",
      "690533.\n"
     ]
    }
   ],
   "source": [
    "Name=\"Sarika\"\n",
    "House_Name=\"Aswathy House\"\n",
    "Address1=\"Kappil East\"\n",
    "Address2=\"Krishnapuram\"\n",
    "Distict=\"Alappuzha\"\n",
    "Pincode=\"690533\"\n",
    "print(\"{},\\n{},\\n{},\\n{},\\n{}.\\n{}.\".format(Name,House_Name,Address1,Address2,Distict,Pincode))"
   ]
  },
  {
   "cell_type": "code",
   "execution_count": 16,
   "metadata": {},
   "outputs": [
    {
     "name": "stdout",
     "output_type": "stream",
     "text": [
      "Sarika,\n",
      "Aswathy House,\n",
      "Kappil East,\n",
      "Krishnapuram,\n",
      "Alappuzha.\n",
      "Pincode-690533.\n"
     ]
    }
   ],
   "source": [
    "##For adding pincode\n",
    "Name=\"Sarika\"\n",
    "House_Name=\"Aswathy House\"\n",
    "Address1=\"Kappil East\"\n",
    "Address2=\"Krishnapuram\"\n",
    "Distict=\"Alappuzha\"\n",
    "Pincode=\"690533\"\n",
    "print(\"{},\\n{},\\n{},\\n{},\\n{}.\\nPincode-{}.\".format(Name,House_Name,Address1,Address2,Distict,Pincode))"
   ]
  },
  {
   "cell_type": "markdown",
   "metadata": {},
   "source": [
    "## Exercise 2: Hello\n",
    "(9 Lines)\n",
    "Write a program that asks the user to enter his or her name. The program should\n",
    "respond with a message that says hello to the user, using his or her name"
   ]
  },
  {
   "cell_type": "code",
   "execution_count": 1,
   "metadata": {},
   "outputs": [
    {
     "name": "stdout",
     "output_type": "stream",
     "text": [
      "Enter your nameSudeesh\n",
      "Hello,Sudeesh\n"
     ]
    }
   ],
   "source": [
    "a=input(\"Enter your name\")\n",
    "\n",
    "print(\"Hello,{}\".format(a))"
   ]
  },
  {
   "cell_type": "code",
   "execution_count": 4,
   "metadata": {},
   "outputs": [
    {
     "name": "stdout",
     "output_type": "stream",
     "text": [
      "Enter your name:Sudeesh\n",
      "Hello,Sudeesh! how are you?\n"
     ]
    }
   ],
   "source": [
    "a=input(\"Enter your name:\")\n",
    "b=\"how are you?\"\n",
    "print(\"Hello,{}! {}\".format(a,b))"
   ]
  },
  {
   "cell_type": "markdown",
   "metadata": {},
   "source": [
    "## Exercise 3: Area of a Room\n",
    "\n",
    "Write a program that asks the user to enter the width and length of a room. Once\n",
    "the values have been read, your program should compute and display the area of the\n",
    "room. The length and the width will be entered as floating point numbers. Include\n",
    "units in your prompt and output message; either feet or meters, depending on which\n",
    "unit you are more comfortable working with."
   ]
  },
  {
   "cell_type": "code",
   "execution_count": 8,
   "metadata": {},
   "outputs": [
    {
     "name": "stdout",
     "output_type": "stream",
     "text": [
      "Enter width in metre: 20.5\n",
      "Enter length in metre: 11.4\n",
      "Area of the room = 233.70000000000002 sq.m.\n"
     ]
    }
   ],
   "source": [
    "a=input(\"Enter width in metre: \")\n",
    "b=input(\"Enter length in metre: \")\n",
    "#c=a*b\n",
    "c=float(a)*float(b)\n",
    "print(\"Area of the room = {} sq.m.\".format(c))"
   ]
  },
  {
   "cell_type": "code",
   "execution_count": 9,
   "metadata": {},
   "outputs": [
    {
     "name": "stdout",
     "output_type": "stream",
     "text": [
      "Enter width in metre: 20.4\n",
      "Enter length in metre: 11.5\n"
     ]
    },
    {
     "ename": "ValueError",
     "evalue": "invalid literal for int() with base 10: '20.4'",
     "output_type": "error",
     "traceback": [
      "\u001b[1;31m---------------------------------------------------------------------------\u001b[0m",
      "\u001b[1;31mValueError\u001b[0m                                Traceback (most recent call last)",
      "\u001b[1;32m<ipython-input-9-f7f01cfc7541>\u001b[0m in \u001b[0;36m<module>\u001b[1;34m\u001b[0m\n\u001b[0;32m      2\u001b[0m \u001b[0mb\u001b[0m\u001b[1;33m=\u001b[0m\u001b[0minput\u001b[0m\u001b[1;33m(\u001b[0m\u001b[1;34m\"Enter length in metre: \"\u001b[0m\u001b[1;33m)\u001b[0m\u001b[1;33m\u001b[0m\u001b[1;33m\u001b[0m\u001b[0m\n\u001b[0;32m      3\u001b[0m \u001b[1;31m#c=a*b\u001b[0m\u001b[1;33m\u001b[0m\u001b[1;33m\u001b[0m\u001b[1;33m\u001b[0m\u001b[0m\n\u001b[1;32m----> 4\u001b[1;33m \u001b[0mc\u001b[0m\u001b[1;33m=\u001b[0m\u001b[0mint\u001b[0m\u001b[1;33m(\u001b[0m\u001b[0ma\u001b[0m\u001b[1;33m)\u001b[0m\u001b[1;33m*\u001b[0m\u001b[0mint\u001b[0m\u001b[1;33m(\u001b[0m\u001b[0mb\u001b[0m\u001b[1;33m)\u001b[0m\u001b[1;33m\u001b[0m\u001b[1;33m\u001b[0m\u001b[0m\n\u001b[0m\u001b[0;32m      5\u001b[0m \u001b[0mprint\u001b[0m\u001b[1;33m(\u001b[0m\u001b[1;34m\"Area of the room = {} sq.m.\"\u001b[0m\u001b[1;33m.\u001b[0m\u001b[0mformat\u001b[0m\u001b[1;33m(\u001b[0m\u001b[0mc\u001b[0m\u001b[1;33m)\u001b[0m\u001b[1;33m)\u001b[0m\u001b[1;33m\u001b[0m\u001b[1;33m\u001b[0m\u001b[0m\n",
      "\u001b[1;31mValueError\u001b[0m: invalid literal for int() with base 10: '20.4'"
     ]
    }
   ],
   "source": [
    "a=input(\"Enter width in metre: \")\n",
    "b=input(\"Enter length in metre: \")\n",
    "#c=a*b\n",
    "c=int(a)*int(b)\n",
    "print(\"Area of the room = {} sq.m.\".format(c))"
   ]
  },
  {
   "cell_type": "markdown",
   "metadata": {},
   "source": [
    "## Exercise 4:Area of a Field\n",
    "\n",
    "\n",
    "Create a program that reads the length and width of a farmer’s field from the user in\n",
    "feet. Display the area of the field in acres.\n",
    "\n",
    "Hint: There are 43,560 square feet in an acre.\n"
   ]
  },
  {
   "cell_type": "code",
   "execution_count": 5,
   "metadata": {},
   "outputs": [
    {
     "name": "stdout",
     "output_type": "stream",
     "text": [
      "Enter length in feet:1000\n",
      "Enter width in feet:2345\n",
      "Area of the field was:53.833792470156105 acres\n"
     ]
    }
   ],
   "source": [
    "a=input(\"Enter length in feet:\")\n",
    "b=input(\"Enter width in feet:\")\n",
    "c=float(a)*float(b)\n",
    "                  # 1 acre=43,560 sq. feet\n",
    "                  # 1 sq.feet =1/43,560 acre\n",
    "d=(c/43560)\n",
    "print(\"Area of the field was:{} acres\".format(d))\n"
   ]
  },
  {
   "cell_type": "code",
   "execution_count": 7,
   "metadata": {},
   "outputs": [
    {
     "name": "stdout",
     "output_type": "stream",
     "text": [
      "Enter length in feet:1234\n",
      "Enter width in feet:3423\n",
      "Area of the field was:96.97 acres\n"
     ]
    }
   ],
   "source": [
    "a=input(\"Enter length in feet:\")\n",
    "b=input(\"Enter width in feet:\")\n",
    "c=float(a)*float(b)\n",
    "                  # 1 acre=43,560 sq. feet\n",
    "                  # 1 sq.feet =1/43,560 acre\n",
    "d=(c/43560)\n",
    "print(\"Area of the field is :{:.2f} acres\".format(d))\n",
    "\n",
    "# {:.2f} for upto 2 decimal only"
   ]
  },
  {
   "cell_type": "code",
   "execution_count": 13,
   "metadata": {},
   "outputs": [
    {
     "name": "stdout",
     "output_type": "stream",
     "text": [
      "a is $13.457\n"
     ]
    }
   ],
   "source": [
    "## Use of {:.3d}\n",
    "\n",
    "a=13.45678\n",
    "print(\"a is {:.3f}\".format(a))"
   ]
  },
  {
   "cell_type": "markdown",
   "metadata": {},
   "source": [
    "## Exercise 5: Bottle Deposits\n",
    "\n",
    "In many jurisdictions a small deposit is added to drink containers to encourage people\n",
    "to recycle them. In one particular jurisdiction, drink containers holding one liter or\n",
    "less have a $0.10 deposit, and drink containers holding more than one liter have a\n",
    "$0.25 deposit.\n",
    "Write a program that reads the number of containers of each size from the user.\n",
    "Your program should continue by computing and displaying the refund that will be\n",
    "received for returning those containers. Format the output so that it includes a dollar\n",
    "sign and always displays exactly two decimal places."
   ]
  },
  {
   "cell_type": "code",
   "execution_count": 1,
   "metadata": {},
   "outputs": [
    {
     "name": "stdout",
     "output_type": "stream",
     "text": [
      "Enter the number of container holding <=1 litre2\n",
      "Enter the number of container holding > 1 litre0\n",
      "Refund amount is $0.20\n"
     ]
    }
   ],
   "source": [
    "Bottle1_deposit=0.10\n",
    "Bottle2_deposit=0.25\n",
    "Data1=input(\"Enter the number of container holding <=1 litre\")\n",
    "\n",
    "Data2=input(\"Enter the number of container holding > 1 litre\")\n",
    "Refund = int(Data1) * Bottle1_deposit + int(Data2) * Bottle2_deposit\n",
    "print(\"Refund amount is ${:.2f}\".format(Refund))"
   ]
  },
  {
   "cell_type": "markdown",
   "metadata": {},
   "source": [
    "## Exercise 6:Tax and Tip\n",
    "\n",
    "The program that you create for this exercise will begin by reading the cost of a meal\n",
    "ordered at a restaurant from the user. Then your program will compute the tax and\n",
    "tip for the meal. Use your local tax rate when computing the amount of tax owing.\n",
    "Compute the tip as 18 percent of the meal amount (without the tax). The output from\n",
    "your program should include the tax amount, the tip amount, and the grand total for\n",
    "the meal including both the tax and the tip. Format the output so that all of the values\n",
    "are displayed using two decimal places."
   ]
  },
  {
   "cell_type": "code",
   "execution_count": 2,
   "metadata": {},
   "outputs": [
    {
     "name": "stdout",
     "output_type": "stream",
     "text": [
      "Enter the total cost:234.80\n",
      "Cost of the meal :$234.80\n",
      "Tip : $42.26\n",
      "Tax :$23.48\n",
      "Grand total : $300.54\n"
     ]
    }
   ],
   "source": [
    "tip=18\n",
    "tax=10\n",
    "cost=float(input(\"Enter the total cost:\"))\n",
    "tipamt= cost * tip/100\n",
    "taxamt= cost * tax/100\n",
    "grand_total=cost + tipamt +taxamt\n",
    "print(\"Cost of the meal :${:.2f}\".format(cost))\n",
    "print(\"Tip : ${:.2f}\".format(tipamt))\n",
    "print(\"Tax :${:.2f}\".format(taxamt))\n",
    "print(\"Grand total : ${:.2f}\".format(grand_total))\n",
    "\n",
    "\n"
   ]
  },
  {
   "cell_type": "markdown",
   "metadata": {},
   "source": [
    "## Exercise 7:Sum of the First n Positive Integers\n",
    "\n",
    "Write a program that reads a positive integer, n, from the user and then displays the\n",
    "sum of all of the integers from 1 to n. The sum of the first n positive integers can be\n",
    "computed using the formula:\n",
    "sum =\n",
    "(n)(n + 1)/\n",
    "2"
   ]
  },
  {
   "cell_type": "code",
   "execution_count": 10,
   "metadata": {},
   "outputs": [
    {
     "name": "stdout",
     "output_type": "stream",
     "text": [
      "Enter a positive integer:5\n",
      "Sum of the first 5 positive integer:15\n"
     ]
    }
   ],
   "source": [
    "sum=0\n",
    "n=int(input(\"Enter a positive integer:\"))\n",
    "sum= (n*(n+1))/2\n",
    "print(\"Sum of the first {} positive integer:{:.0f}\".format(n,sum))\n",
    "\n",
    "\n",
    "\n"
   ]
  },
  {
   "cell_type": "markdown",
   "metadata": {},
   "source": [
    "## Exercise 8:Widgets and Gizmos\n",
    "\n",
    "An online retailer sells two products: widgets and gizmos. Each widget weighs 75\n",
    "grams. Each gizmo weighs 112 grams. Write a program that reads the number of\n",
    "widgets and the number of gizmos in an order from the user. Then your program\n",
    "should compute and display the total weight of the order."
   ]
  },
  {
   "cell_type": "code",
   "execution_count": 13,
   "metadata": {},
   "outputs": [
    {
     "name": "stdout",
     "output_type": "stream",
     "text": [
      "Total number of widget :2\n",
      "Total number of gizmo :1\n",
      "Total weight of the order :262\n"
     ]
    }
   ],
   "source": [
    "widget=75\n",
    "gizmo=112\n",
    "order1=int(input(\"Total number of widget :\"))\n",
    "order2=int(input(\"Total number of gizmo :\"))\n",
    "widget_total= order1 * 75\n",
    "gizmo_total= order2 * 112\n",
    "total_order=(widget_total + gizmo_total)\n",
    "print(\"Total weight of the order :{}\".format(total_order))"
   ]
  },
  {
   "cell_type": "code",
   "execution_count": 15,
   "metadata": {},
   "outputs": [
    {
     "name": "stdout",
     "output_type": "stream",
     "text": [
      "Total number of widget :100\n",
      "Total number of gizmo :200\n",
      "Total weight of the order= 29kg and 900gms\n"
     ]
    }
   ],
   "source": [
    "widget=75\n",
    "gizmo=112\n",
    "order1=int(input(\"Total number of widget :\"))\n",
    "order2=int(input(\"Total number of gizmo :\"))\n",
    "widget_total= order1 * 75\n",
    "gizmo_total= order2 * 112\n",
    "total_order1=(widget_total + gizmo_total)//1000  # // gives kg value\n",
    "total_order2=(widget_total + gizmo_total)%1000   # % gives remainder of the division \n",
    "print(\"Total weight of the order= {:.0f}kg and {}gms\".format(total_order1,total_order2))"
   ]
  },
  {
   "cell_type": "markdown",
   "metadata": {},
   "source": [
    "## Exercise 9: Compound Interest\n",
    "\n",
    "Pretend that you have just opened a new savings account that earns 4 percent interest\n",
    "per year. The interest that you earn is paid at the end of the year, and is added\n",
    "to the balance of the savings account. Write a program that begins by reading the\n",
    "amount of money deposited into the account from the user. Then your program should\n",
    "compute and display the amount in the savings account after 1, 2, and 3 years. Display\n",
    "each amount so that it is rounded to 2 decimal places."
   ]
  },
  {
   "cell_type": "code",
   "execution_count": 16,
   "metadata": {},
   "outputs": [
    {
     "name": "stdout",
     "output_type": "stream",
     "text": [
      "Enter the amount to deposit: 1000\n",
      "Deposit after first year = $1040.00\n",
      "Deposit after second year = $1081.60\n",
      "Deposit after third year = $1124.86\n"
     ]
    }
   ],
   "source": [
    "r=4  # interest rate\n",
    "p=float(input(\"Enter the amount to deposit: \"))\n",
    "n=1   # first year\n",
    "p = p + (p*n*r)/100\n",
    "print(\"Deposit after first year = ${:.2f}\".format(p))\n",
    "p = p + (p*n*r)/100\n",
    "print(\"Deposit after second year = ${:.2f}\".format(p))\n",
    "p = p + (p*n*r)/100\n",
    "print(\"Deposit after third year = ${:.2f}\".format(p))"
   ]
  },
  {
   "cell_type": "code",
   "execution_count": 1,
   "metadata": {},
   "outputs": [
    {
     "name": "stdout",
     "output_type": "stream",
     "text": [
      "Enter the amount to deposit: 1000\n",
      "Enter the number of years :10\n",
      "Deposit after year 1 = $1040.00\n",
      "Deposit after year 2 = $1081.60\n",
      "Deposit after year 3 = $1124.86\n",
      "Deposit after year 4 = $1169.86\n",
      "Deposit after year 5 = $1216.65\n",
      "Deposit after year 6 = $1265.32\n",
      "Deposit after year 7 = $1315.93\n",
      "Deposit after year 8 = $1368.57\n",
      "Deposit after year 9 = $1423.31\n",
      "Deposit after year 10 = $1480.24\n"
     ]
    }
   ],
   "source": [
    "r=4  # interest rate\n",
    "p=float(input(\"Enter the amount to deposit: \"))\n",
    "n=1   # first year\n",
    "t=int(input(\"Enter the number of years :\"))\n",
    "for i in range(1,t+1):   # from 1 to 10 years\n",
    "    p = p + (p*n*r)/100  # Interest Formula\n",
    "    print(\"Deposit after year {} = ${:.2f}\".format(i,p))"
   ]
  },
  {
   "cell_type": "markdown",
   "metadata": {},
   "source": [
    "## Exercise 10:Arithmetic\n",
    "\n",
    "Create a program that reads two integers, a and b, from the user. Your program should compute and display:\n",
    "• The sum of a and b\n",
    "• The difference when b is subtracted from a\n",
    "• The product of a and b\n",
    "• The quotient when a is divided by b\n",
    "• The remainder when a is divided by b\n",
    "• The result of log10 a\n",
    "• The result of a^b\n",
    "\n",
    "Hint: You will probably find the log10 function in the math module helpful\n",
    "for computing the second last item in the list.\n"
   ]
  },
  {
   "cell_type": "code",
   "execution_count": 6,
   "metadata": {},
   "outputs": [
    {
     "name": "stdout",
     "output_type": "stream",
     "text": [
      "Enter first integer: 10\n",
      "Enter second integer:5\n",
      "sum of 10 & 5 = 15\n",
      "difference of 5 & 10 = -5\n",
      "product of 10 & 5 = 50\n",
      "quotient of 10 / 5 = 2\n",
      "remainder of 10 / 5 = 0\n",
      "result of log10 1.0\n",
      "result of 10^ 5= 100000\n"
     ]
    }
   ],
   "source": [
    "import math as m\n",
    "\n",
    "a=int(input(\"Enter first integer: \"))\n",
    "b=int(input(\"Enter second integer:\"))\n",
    "print(\"sum of {} & {} = {}\".format(a,b,a+b))\n",
    "\n",
    "print(\"difference of {1} & {0} = {2}\".format(a,b,b-a)) # using index\n",
    "\n",
    "print(\"product of {0} & {1} = {2}\".format(a,b,a*b))\n",
    "\n",
    "print(\"quotient of {} / {} = {}\".format(a,b,a//b))\n",
    "\n",
    "print(\"remainder of {} / {} = {}\".format(a,b,a%b))\n",
    "\n",
    "print(\"result of log10 {}\".format(m.log10(a)))\n",
    "\n",
    "print(\"result of {}^ {}= {}\".format(a,b,a**b))"
   ]
  },
  {
   "cell_type": "code",
   "execution_count": null,
   "metadata": {},
   "outputs": [],
   "source": []
  }
 ],
 "metadata": {
  "kernelspec": {
   "display_name": "Python 3",
   "language": "python",
   "name": "python3"
  },
  "language_info": {
   "codemirror_mode": {
    "name": "ipython",
    "version": 3
   },
   "file_extension": ".py",
   "mimetype": "text/x-python",
   "name": "python",
   "nbconvert_exporter": "python",
   "pygments_lexer": "ipython3",
   "version": "3.7.3"
  }
 },
 "nbformat": 4,
 "nbformat_minor": 2
}
