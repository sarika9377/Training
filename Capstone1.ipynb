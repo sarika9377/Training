{
  "nbformat": 4,
  "nbformat_minor": 0,
  "metadata": {
    "colab": {
      "name": "Colab's New Code Editor",
      "provenance": [],
      "collapsed_sections": [],
      "include_colab_link": true
    },
    "kernelspec": {
      "display_name": "Python 3",
      "name": "python3"
    }
  },
  "cells": [
    {
      "cell_type": "markdown",
      "metadata": {
        "id": "view-in-github",
        "colab_type": "text"
      },
      "source": [
        "<a href=\"https://colab.research.google.com/github/sarika9377/Training/blob/master/Capstone1.ipynb\" target=\"_parent\"><img src=\"https://colab.research.google.com/assets/colab-badge.svg\" alt=\"Open In Colab\"/></a>"
      ]
    },
    {
      "cell_type": "markdown",
      "metadata": {
        "colab_type": "text",
        "id": "aRDUGd13kUFu"
      },
      "source": [
        "# Colab's New Code Editor\n",
        "\n",
        "Colab is moving to a new code editor which includes:\n",
        "* Richer completions\n",
        "* Additional keybinding options\n",
        "* Improved accessibility"
      ]
    },
    {
      "cell_type": "markdown",
      "metadata": {
        "colab_type": "text",
        "id": "qTXOGdaz4wy0"
      },
      "source": [
        "# Richer syntax highlighting\n",
        "\n",
        "Improved support for nested languages:\n",
        "\n",
        "```notebook-python\n",
        "df = pd.io.gbq.read_gbq('''\n",
        "  SELECT \n",
        "    REGEXP_EXTRACT(name, '[a-zA-Z]+'),\n",
        "    SUM(number) as count\n",
        "  FROM `bigquery-public-data.usa_names.usa_1910_2013`\n",
        "  WHERE state = 'TX'\n",
        "  GROUP BY name\n",
        "  ORDER BY count DESC\n",
        "  LIMIT 100\n",
        "''')\n",
        "```"
      ]
    },
    {
      "cell_type": "code",
      "metadata": {
        "id": "LaYfSWdFRXcB",
        "colab_type": "code",
        "colab": {}
      },
      "source": [
        "import mysql.connector as mysql #if it gives error, use: pip install mysql.connector\n",
        "import csv\n",
        "import pandas as pd\n",
        "import numpy as np\n",
        "\n",
        "#Creating the connection string to connect to INSAID's mysql db\n",
        "\n",
        "dbconnectionstring = mysql.connect(\n",
        "                      host = 'cpanel.insaid.co',\n",
        "                      user = 'student',\n",
        "                      passwd = 'student',\n",
        "                      database = 'Capstone1' )\n",
        "\n",
        "cursor = dbconnectionstring.cursor()"
      ],
      "execution_count": 0,
      "outputs": []
    },
    {
      "cell_type": "code",
      "metadata": {
        "id": "9UbwKuGqRjgb",
        "colab_type": "code",
        "colab": {
          "base_uri": "https://localhost:8080/",
          "height": 68
        },
        "outputId": "aa995edd-00fd-4334-88c5-c7e1f0dad0e4"
      },
      "source": [
        "cursor.execute(\"SHOW TABLES\")\n",
        "tables=cursor.fetchall()\n",
        "for table_name in tables:\n",
        "    print(table_name)"
      ],
      "execution_count": 5,
      "outputs": [
        {
          "output_type": "stream",
          "text": [
            "('events_data',)\n",
            "('gender_age_train',)\n",
            "('phone_brand_device_model',)\n"
          ],
          "name": "stdout"
        }
      ]
    },
    {
      "cell_type": "code",
      "metadata": {
        "id": "lMYImFZbR7P4",
        "colab_type": "code",
        "colab": {
          "base_uri": "https://localhost:8080/",
          "height": 136
        },
        "outputId": "6cdeb8a6-cc6c-4f72-8426-1b8f3e7fcc7c"
      },
      "source": [
        "query = \"show columns from events_data\"\n",
        "cursor.execute(query)\n",
        "result=cursor.fetchall()\n",
        "dbconnectionstring.close()\n",
        "result"
      ],
      "execution_count": 6,
      "outputs": [
        {
          "output_type": "execute_result",
          "data": {
            "text/plain": [
              "[('event_id', 'bigint(20)', 'NO', '', None, ''),\n",
              " ('device_id', 'bigint(255)', 'YES', '', None, ''),\n",
              " ('timestamp', 'datetime', 'NO', '', None, ''),\n",
              " ('longitude', 'float(8,6)', 'YES', '', None, ''),\n",
              " ('latitude', 'float(8,6)', 'YES', '', None, ''),\n",
              " ('city', 'varchar(50)', 'NO', '', None, ''),\n",
              " ('state', 'varchar(50)', 'NO', '', None, '')]"
            ]
          },
          "metadata": {
            "tags": []
          },
          "execution_count": 6
        }
      ]
    },
    {
      "cell_type": "code",
      "metadata": {
        "id": "ia-OjFSQSBQO",
        "colab_type": "code",
        "colab": {
          "base_uri": "https://localhost:8080/",
          "height": 85
        },
        "outputId": "0e6bb99f-5d98-4f7f-aabc-cc6db6100c9f"
      },
      "source": [
        "# Table 2 - gender_age_train - Get Column names\n",
        "\n",
        "dbconnectionstring = mysql.connect(\n",
        "                      host = 'cpanel.insaid.co',\n",
        "                      user = 'student',\n",
        "                      passwd = 'student',\n",
        "                      database = 'Capstone1' )\n",
        "\n",
        "cursor = dbconnectionstring.cursor()\n",
        "\n",
        "query = \"show columns from gender_age_train\"\n",
        "cursor.execute(query)\n",
        "result=cursor.fetchall()\n",
        "dbconnectionstring.close()\n",
        "result"
      ],
      "execution_count": 8,
      "outputs": [
        {
          "output_type": "execute_result",
          "data": {
            "text/plain": [
              "[('device_id', 'bigint(255)', 'NO', '', None, ''),\n",
              " ('gender', 'varchar(2555)', 'NO', '', None, ''),\n",
              " ('age', 'int(255)', 'NO', '', None, ''),\n",
              " ('group', 'varchar(2555)', 'NO', '', None, '')]"
            ]
          },
          "metadata": {
            "tags": []
          },
          "execution_count": 8
        }
      ]
    },
    {
      "cell_type": "code",
      "metadata": {
        "id": "_30GPQYwSLti",
        "colab_type": "code",
        "colab": {
          "base_uri": "https://localhost:8080/",
          "height": 68
        },
        "outputId": "89142113-7aaf-4613-e065-acd3e40a9398"
      },
      "source": [
        "# Table 3 - phone_brand_device_model - Get Column names\n",
        "\n",
        "dbconnectionstring = mysql.connect(\n",
        "                      host = 'cpanel.insaid.co',\n",
        "                      user = 'student',\n",
        "                      passwd = 'student',\n",
        "                      database = 'Capstone1' )\n",
        "\n",
        "cursor = dbconnectionstring.cursor()\n",
        "\n",
        "query = \"show columns from phone_brand_device_model\"\n",
        "cursor.execute(query)\n",
        "result=cursor.fetchall()\n",
        "dbconnectionstring.close()\n",
        "result"
      ],
      "execution_count": 9,
      "outputs": [
        {
          "output_type": "execute_result",
          "data": {
            "text/plain": [
              "[('device_id', 'bigint(255)', 'NO', '', None, ''),\n",
              " ('phone_brand', 'varchar(2555)', 'NO', '', None, ''),\n",
              " ('device_model', 'varchar(2555)', 'NO', '', None, '')]"
            ]
          },
          "metadata": {
            "tags": []
          },
          "execution_count": 9
        }
      ]
    },
    {
      "cell_type": "code",
      "metadata": {
        "id": "OFIMFxbxSNma",
        "colab_type": "code",
        "colab": {
          "base_uri": "https://localhost:8080/",
          "height": 34
        },
        "outputId": "3ec4e533-e460-41c0-940a-c8a9d0c03851"
      },
      "source": [
        "dbconnectionstring = mysql.connect(\n",
        "                      host = 'cpanel.insaid.co',\n",
        "                      user = 'student',\n",
        "                      passwd = 'student',\n",
        "                      database = 'Capstone1' )\n",
        "\n",
        "cursor = dbconnectionstring.cursor()\n",
        "\n",
        "query = \"select count(*) from phone_brand_device_model\"\n",
        "cursor.execute(query)\n",
        "pcount = cursor.fetchall()\n",
        "dbconnectionstring.close()\n",
        "pcount\n"
      ],
      "execution_count": 10,
      "outputs": [
        {
          "output_type": "execute_result",
          "data": {
            "text/plain": [
              "[(87726,)]"
            ]
          },
          "metadata": {
            "tags": []
          },
          "execution_count": 10
        }
      ]
    },
    {
      "cell_type": "code",
      "metadata": {
        "id": "6P5KpFRnSUxs",
        "colab_type": "code",
        "colab": {
          "base_uri": "https://localhost:8080/",
          "height": 34
        },
        "outputId": "8b25ad66-b274-425f-8815-22ab4f34c051"
      },
      "source": [
        "dbconnectionstring = mysql.connect(\n",
        "                      host = 'cpanel.insaid.co',\n",
        "                      user = 'student',\n",
        "                      passwd = 'student',\n",
        "                      database = 'Capstone1' )\n",
        "\n",
        "cursor = dbconnectionstring.cursor()\n",
        "\n",
        "query = \"select count(*) from gender_age_train\"\n",
        "cursor.execute(query)\n",
        "pcount = cursor.fetchall()\n",
        "dbconnectionstring.close()\n",
        "pcount\n"
      ],
      "execution_count": 11,
      "outputs": [
        {
          "output_type": "execute_result",
          "data": {
            "text/plain": [
              "[(74645,)]"
            ]
          },
          "metadata": {
            "tags": []
          },
          "execution_count": 11
        }
      ]
    },
    {
      "cell_type": "code",
      "metadata": {
        "id": "_gLi05wgSXrr",
        "colab_type": "code",
        "colab": {}
      },
      "source": [
        "# Get all records for the concerned States from events_data\n",
        "\n",
        "if dbconnectionstring.is_connected():\n",
        "    dbconnectionstring.close()\n",
        "    \n",
        "dbconnectionstring = mysql.connect(\n",
        "                      host = 'cpanel.insaid.co',\n",
        "                      user = 'student',\n",
        "                      passwd = 'student',\n",
        "                      database = 'Capstone1' )\n",
        "\n",
        "cursor = dbconnectionstring.cursor()\n",
        "\n",
        "query = '''select *\n",
        "             from events_data as ed\n",
        "            where state in ('MadhyaPradesh', 'Goa', 'Chhattisgarh','Uttaranchal', 'JammuandKashmir', 'Nagaland')'''\n",
        "cursor.execute(query)\n",
        "events_data=cursor.fetchall()\n",
        "ds_events_data= pd.DataFrame(events_data)\n",
        "ds_events_data.columns=[i[0] for i in cursor.description]\n",
        "dbconnectionstring.close()"
      ],
      "execution_count": 0,
      "outputs": []
    },
    {
      "cell_type": "code",
      "metadata": {
        "id": "vHmzVllnSYFT",
        "colab_type": "code",
        "colab": {
          "base_uri": "https://localhost:8080/",
          "height": 204
        },
        "outputId": "1862e1a7-75ee-4ce0-86e9-574af14becf1"
      },
      "source": [
        "ds_events_data.head()"
      ],
      "execution_count": 13,
      "outputs": [
        {
          "output_type": "execute_result",
          "data": {
            "text/html": [
              "<div>\n",
              "<style scoped>\n",
              "    .dataframe tbody tr th:only-of-type {\n",
              "        vertical-align: middle;\n",
              "    }\n",
              "\n",
              "    .dataframe tbody tr th {\n",
              "        vertical-align: top;\n",
              "    }\n",
              "\n",
              "    .dataframe thead th {\n",
              "        text-align: right;\n",
              "    }\n",
              "</style>\n",
              "<table border=\"1\" class=\"dataframe\">\n",
              "  <thead>\n",
              "    <tr style=\"text-align: right;\">\n",
              "      <th></th>\n",
              "      <th>event_id</th>\n",
              "      <th>device_id</th>\n",
              "      <th>timestamp</th>\n",
              "      <th>longitude</th>\n",
              "      <th>latitude</th>\n",
              "      <th>city</th>\n",
              "      <th>state</th>\n",
              "    </tr>\n",
              "  </thead>\n",
              "  <tbody>\n",
              "    <tr>\n",
              "      <th>0</th>\n",
              "      <td>10117</td>\n",
              "      <td>-5.323073e+18</td>\n",
              "      <td>2016-05-01 11:11:24</td>\n",
              "      <td>75.939545</td>\n",
              "      <td>22.769171</td>\n",
              "      <td>Indore</td>\n",
              "      <td>MadhyaPradesh</td>\n",
              "    </tr>\n",
              "    <tr>\n",
              "      <th>1</th>\n",
              "      <td>112369</td>\n",
              "      <td>-5.323073e+18</td>\n",
              "      <td>2016-05-04 22:47:19</td>\n",
              "      <td>75.939545</td>\n",
              "      <td>22.769171</td>\n",
              "      <td>Indore</td>\n",
              "      <td>MadhyaPradesh</td>\n",
              "    </tr>\n",
              "    <tr>\n",
              "      <th>2</th>\n",
              "      <td>139098</td>\n",
              "      <td>-5.323073e+18</td>\n",
              "      <td>2016-05-01 09:55:58</td>\n",
              "      <td>75.939545</td>\n",
              "      <td>22.769171</td>\n",
              "      <td>Indore</td>\n",
              "      <td>MadhyaPradesh</td>\n",
              "    </tr>\n",
              "    <tr>\n",
              "      <th>3</th>\n",
              "      <td>190983</td>\n",
              "      <td>-5.323073e+18</td>\n",
              "      <td>2016-05-04 22:51:03</td>\n",
              "      <td>75.939545</td>\n",
              "      <td>22.769171</td>\n",
              "      <td>Indore</td>\n",
              "      <td>MadhyaPradesh</td>\n",
              "    </tr>\n",
              "    <tr>\n",
              "      <th>4</th>\n",
              "      <td>249507</td>\n",
              "      <td>-5.323073e+18</td>\n",
              "      <td>2016-05-01 11:24:12</td>\n",
              "      <td>75.939545</td>\n",
              "      <td>22.769171</td>\n",
              "      <td>Indore</td>\n",
              "      <td>MadhyaPradesh</td>\n",
              "    </tr>\n",
              "  </tbody>\n",
              "</table>\n",
              "</div>"
            ],
            "text/plain": [
              "   event_id     device_id           timestamp  ...   latitude    city          state\n",
              "0     10117 -5.323073e+18 2016-05-01 11:11:24  ...  22.769171  Indore  MadhyaPradesh\n",
              "1    112369 -5.323073e+18 2016-05-04 22:47:19  ...  22.769171  Indore  MadhyaPradesh\n",
              "2    139098 -5.323073e+18 2016-05-01 09:55:58  ...  22.769171  Indore  MadhyaPradesh\n",
              "3    190983 -5.323073e+18 2016-05-04 22:51:03  ...  22.769171  Indore  MadhyaPradesh\n",
              "4    249507 -5.323073e+18 2016-05-01 11:24:12  ...  22.769171  Indore  MadhyaPradesh\n",
              "\n",
              "[5 rows x 7 columns]"
            ]
          },
          "metadata": {
            "tags": []
          },
          "execution_count": 13
        }
      ]
    },
    {
      "cell_type": "code",
      "metadata": {
        "id": "d6PHlMkaSjPE",
        "colab_type": "code",
        "colab": {
          "base_uri": "https://localhost:8080/",
          "height": 34
        },
        "outputId": "2101a8fd-a54f-4f6e-e0ac-3b07d256a987"
      },
      "source": [
        "# Create a unique list of device ids from event data, to download only those records from the other 2 tables.\n",
        "\n",
        "device_ids = ds_events_data['device_id'].unique()    # Extracts unique device ids\n",
        "dids=device_ids.tolist()                           # Converts nparray to list\n",
        "list_of_ids = [x for x in dids if str(x) != 'nan'] # Drop all 'nan' ids\n",
        "len(list_of_ids)                                   # list the number of ids."
      ],
      "execution_count": 14,
      "outputs": [
        {
          "output_type": "execute_result",
          "data": {
            "text/plain": [
              "4297"
            ]
          },
          "metadata": {
            "tags": []
          },
          "execution_count": 14
        }
      ]
    },
    {
      "cell_type": "code",
      "metadata": {
        "id": "pvF2hOvzSmLo",
        "colab_type": "code",
        "colab": {}
      },
      "source": [
        ""
      ],
      "execution_count": 0,
      "outputs": []
    }
  ]
}